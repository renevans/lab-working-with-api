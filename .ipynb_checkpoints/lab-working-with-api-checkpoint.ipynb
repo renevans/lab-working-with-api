{
 "cells": [
  {
   "cell_type": "code",
   "execution_count": 90,
   "metadata": {},
   "outputs": [],
   "source": [
    "# Import requests library\n",
    "import requests\n",
    "import pandas as pd\n",
    "from bs4 import BeautifulSoup"
   ]
  },
  {
   "cell_type": "code",
   "execution_count": 76,
   "metadata": {},
   "outputs": [],
   "source": [
    "import json\n",
    "from pandas.io.json import json_normalize"
   ]
  },
  {
   "cell_type": "code",
   "execution_count": 77,
   "metadata": {},
   "outputs": [],
   "source": [
    "# Following the class example, create a function that returns the price, names of origin and arrival airports and the name of the company. \n",
    "# Do it for all the flights between two dates <<that cost the same.>>"
   ]
  },
  {
   "cell_type": "code",
   "execution_count": 78,
   "metadata": {},
   "outputs": [
    {
     "data": {
      "text/plain": [
       "\"\\n200: Everything went okay and the result has been returned (if any).\\n301: The server is redirecting you to a different endpoint. This can happen when a company switches domain names, or an endpoint name is changed.\\n400: The server thinks you made a bad request. This happens when you don’t send along the right data, among other things.\\n401: You are not properly authenticated.\\n403: The resource you’re trying to access is forbidden: you don’t have the right permissions to get it.\\n404: The resource you tried to access doesn't exist.\\n503: The server can't handle the request.\\n\""
      ]
     },
     "execution_count": 78,
     "metadata": {},
     "output_type": "execute_result"
    }
   ],
   "source": [
    "'''\n",
    "200: Everything went okay and the result has been returned (if any).\n",
    "301: The server is redirecting you to a different endpoint. This can happen when a company switches domain names, or an endpoint name is changed.\n",
    "400: The server thinks you made a bad request. This happens when you don’t send along the right data, among other things.\n",
    "401: You are not properly authenticated.\n",
    "403: The resource you’re trying to access is forbidden: you don’t have the right permissions to get it.\n",
    "404: The resource you tried to access doesn't exist.\n",
    "503: The server can't handle the request.\n",
    "'''"
   ]
  },
  {
   "cell_type": "code",
   "execution_count": 10,
   "metadata": {},
   "outputs": [
    {
     "name": "stdout",
     "output_type": "stream",
     "text": [
      "········\n"
     ]
    }
   ],
   "source": [
    "# we do not want to leave an API key in code that gets uploaded to GitHub\n",
    "# I use getpass (because this is interactive)\n",
    "# for an automated workflow you could store the key in your environment, and read it from there\n",
    "import getpass\n",
    "rapidAPIkey = getpass.getpass()\n"
   ]
  },
  {
   "cell_type": "code",
   "execution_count": 79,
   "metadata": {},
   "outputs": [],
   "source": [
    "def city_code(city_name):\n",
    "    url = \"https://skyscanner-skyscanner-flight-search-v1.p.rapidapi.com/apiservices/autosuggest/v1.0/US/USD/en-US/\"\n",
    "    params = {\"query\": city_name}\n",
    "    headers = {'x-rapidapi-host': \"skyscanner-skyscanner-flight-search-v1.p.rapidapi.com\",\n",
    "               'x-rapidapi-key': rapidAPIkey}\n",
    "    response = requests.get(url, headers = headers, params = params)\n",
    "    return response.json()[\"Places\"][0][\"PlaceId\"]\n",
    "\n",
    "# # If null values are found:\n",
    "\n",
    "# def city_code(city_name):\n",
    "#     url = \"https://skyscanner-skyscanner-flight-search-v1.p.rapidapi.com/apiservices/autosuggest/v1.0/US/USD/en-US/\"\n",
    "\n",
    "#     params = {\"query\": city_name}\n",
    "\n",
    "#     headers = {'x-rapidapi-host': \"skyscanner-skyscanner-flight-search-v1.p.rapidapi.com\",\n",
    "#                       'x-rapidapi-key': rapidAPIkey}\n",
    "\n",
    "#     response = requests.get(url, headers = headers, params = params)\n",
    "    \n",
    "#     if len(response.json()[\"Places\"]) > 0:\n",
    "#         return response.json()[\"Places\"][0][\"PlaceId\"]\n",
    "#     else:\n",
    "#         return \"\"\n",
    "\n",
    "def flight_prices(departure, arrival, date):\n",
    "    departure_code = city_code(departure)\n",
    "    arrival_code = city_code(arrival)\n",
    "    url = f\"https://skyscanner-skyscanner-flight-search-v1.p.rapidapi.com/apiservices/browsequotes/v1.0/US/USD/en-US/{departure_code}/{arrival_code}/{date}\"\n",
    "    params = {\"inboundpartialdate\":{date}}\n",
    "    headers = {\n",
    "    'x-rapidapi-host': \"skyscanner-skyscanner-flight-search-v1.p.rapidapi.com\",\n",
    "    'x-rapidapi-key': rapidAPIkey}\n",
    "    response = requests.get(url, headers=headers, params=params)\n",
    "    return response.json()\n"
   ]
  },
  {
   "cell_type": "code",
   "execution_count": 80,
   "metadata": {},
   "outputs": [],
   "source": [
    "def get_dates(start, end):\n",
    "    return pd.Series(pd.date_range(start, end,freq='d').format())"
   ]
  },
  {
   "cell_type": "code",
   "execution_count": 81,
   "metadata": {},
   "outputs": [
    {
     "data": {
      "text/plain": [
       "0    2021-09-17\n",
       "1    2021-09-18\n",
       "dtype: object"
      ]
     },
     "execution_count": 81,
     "metadata": {},
     "output_type": "execute_result"
    }
   ],
   "source": [
    "get_dates(\"2021-09-17\", \"2021-09-18\")"
   ]
  },
  {
   "cell_type": "code",
   "execution_count": 82,
   "metadata": {},
   "outputs": [],
   "source": [
    "def flight_days(origin, destination, start, end):\n",
    "    dates = get_dates(start, end)\n",
    "    return {date:flight_prices(origin, destination, date) for date in dates}"
   ]
  },
  {
   "cell_type": "code",
   "execution_count": 83,
   "metadata": {},
   "outputs": [],
   "source": [
    "overview = flight_days(\"Amsterdam\", \"Lanzarote\", \"2021-09-17\", \"2021-09-18\")"
   ]
  },
  {
   "cell_type": "code",
   "execution_count": 84,
   "metadata": {},
   "outputs": [
    {
     "data": {
      "text/plain": [
       "{'2021-09-17': {'Quotes': [{'QuoteId': 1,\n",
       "    'MinPrice': 121,\n",
       "    'Direct': False,\n",
       "    'OutboundLeg': {'CarrierIds': [50441],\n",
       "     'OriginId': 40595,\n",
       "     'DestinationId': 40101,\n",
       "     'DepartureDate': '2021-09-17T00:00:00'},\n",
       "    'QuoteDateTime': '2021-09-13T20:13:00'}],\n",
       "  'Carriers': [{'CarrierId': 50441, 'Name': 'easyJet'}],\n",
       "  'Places': [{'Name': 'Lanzarote',\n",
       "    'Type': 'Station',\n",
       "    'PlaceId': 40101,\n",
       "    'IataCode': 'ACE',\n",
       "    'SkyscannerCode': 'ACE',\n",
       "    'CityName': 'Lanzarote',\n",
       "    'CityId': 'ARRE',\n",
       "    'CountryName': 'Spain'},\n",
       "   {'Name': 'Amsterdam',\n",
       "    'Type': 'Station',\n",
       "    'PlaceId': 40595,\n",
       "    'IataCode': 'AMS',\n",
       "    'SkyscannerCode': 'AMS',\n",
       "    'CityName': 'Amsterdam',\n",
       "    'CityId': 'AMST',\n",
       "    'CountryName': 'Netherlands'}],\n",
       "  'Currencies': [{'Code': 'USD',\n",
       "    'Symbol': '$',\n",
       "    'ThousandsSeparator': ',',\n",
       "    'DecimalSeparator': '.',\n",
       "    'SymbolOnLeft': True,\n",
       "    'SpaceBetweenAmountAndSymbol': False,\n",
       "    'RoundingCoefficient': 0,\n",
       "    'DecimalDigits': 2}]},\n",
       " '2021-09-18': {'Quotes': [{'QuoteId': 1,\n",
       "    'MinPrice': 122,\n",
       "    'Direct': False,\n",
       "    'OutboundLeg': {'CarrierIds': [50441],\n",
       "     'OriginId': 40595,\n",
       "     'DestinationId': 40101,\n",
       "     'DepartureDate': '2021-09-18T00:00:00'},\n",
       "    'QuoteDateTime': '2021-09-14T14:51:00'},\n",
       "   {'QuoteId': 2,\n",
       "    'MinPrice': 322,\n",
       "    'Direct': True,\n",
       "    'OutboundLeg': {'CarrierIds': [1190],\n",
       "     'OriginId': 40595,\n",
       "     'DestinationId': 40101,\n",
       "     'DepartureDate': '2021-09-18T00:00:00'},\n",
       "    'QuoteDateTime': '2021-09-14T22:07:00'}],\n",
       "  'Carriers': [{'CarrierId': 50441, 'Name': 'easyJet'},\n",
       "   {'CarrierId': 1190, 'Name': 'transavia'}],\n",
       "  'Places': [{'Name': 'Lanzarote',\n",
       "    'Type': 'Station',\n",
       "    'PlaceId': 40101,\n",
       "    'IataCode': 'ACE',\n",
       "    'SkyscannerCode': 'ACE',\n",
       "    'CityName': 'Lanzarote',\n",
       "    'CityId': 'ARRE',\n",
       "    'CountryName': 'Spain'},\n",
       "   {'Name': 'Amsterdam',\n",
       "    'Type': 'Station',\n",
       "    'PlaceId': 40595,\n",
       "    'IataCode': 'AMS',\n",
       "    'SkyscannerCode': 'AMS',\n",
       "    'CityName': 'Amsterdam',\n",
       "    'CityId': 'AMST',\n",
       "    'CountryName': 'Netherlands'}],\n",
       "  'Currencies': [{'Code': 'USD',\n",
       "    'Symbol': '$',\n",
       "    'ThousandsSeparator': ',',\n",
       "    'DecimalSeparator': '.',\n",
       "    'SymbolOnLeft': True,\n",
       "    'SpaceBetweenAmountAndSymbol': False,\n",
       "    'RoundingCoefficient': 0,\n",
       "    'DecimalDigits': 2}]}}"
      ]
     },
     "execution_count": 84,
     "metadata": {},
     "output_type": "execute_result"
    }
   ],
   "source": [
    "overview"
   ]
  },
  {
   "cell_type": "code",
   "execution_count": 139,
   "metadata": {},
   "outputs": [
    {
     "data": {
      "text/html": [
       "<div>\n",
       "<style scoped>\n",
       "    .dataframe tbody tr th:only-of-type {\n",
       "        vertical-align: middle;\n",
       "    }\n",
       "\n",
       "    .dataframe tbody tr th {\n",
       "        vertical-align: top;\n",
       "    }\n",
       "\n",
       "    .dataframe thead th {\n",
       "        text-align: right;\n",
       "    }\n",
       "</style>\n",
       "<table border=\"1\" class=\"dataframe\">\n",
       "  <thead>\n",
       "    <tr style=\"text-align: right;\">\n",
       "      <th></th>\n",
       "      <th>index</th>\n",
       "      <th>Quotes</th>\n",
       "      <th>Carriers</th>\n",
       "      <th>Places</th>\n",
       "      <th>Currencies</th>\n",
       "    </tr>\n",
       "  </thead>\n",
       "  <tbody>\n",
       "    <tr>\n",
       "      <th>0</th>\n",
       "      <td>2021-09-17</td>\n",
       "      <td>[{'QuoteId': 1, 'MinPrice': 121, 'Direct': Fal...</td>\n",
       "      <td>[{'CarrierId': 50441, 'Name': 'easyJet'}]</td>\n",
       "      <td>[{'Name': 'Lanzarote', 'Type': 'Station', 'Pla...</td>\n",
       "      <td>[{'Code': 'USD', 'Symbol': '$', 'ThousandsSepa...</td>\n",
       "    </tr>\n",
       "    <tr>\n",
       "      <th>1</th>\n",
       "      <td>2021-09-18</td>\n",
       "      <td>[{'QuoteId': 1, 'MinPrice': 122, 'Direct': Fal...</td>\n",
       "      <td>[{'CarrierId': 50441, 'Name': 'easyJet'}, {'Ca...</td>\n",
       "      <td>[{'Name': 'Lanzarote', 'Type': 'Station', 'Pla...</td>\n",
       "      <td>[{'Code': 'USD', 'Symbol': '$', 'ThousandsSepa...</td>\n",
       "    </tr>\n",
       "  </tbody>\n",
       "</table>\n",
       "</div>"
      ],
      "text/plain": [
       "        index                                             Quotes  \\\n",
       "0  2021-09-17  [{'QuoteId': 1, 'MinPrice': 121, 'Direct': Fal...   \n",
       "1  2021-09-18  [{'QuoteId': 1, 'MinPrice': 122, 'Direct': Fal...   \n",
       "\n",
       "                                            Carriers  \\\n",
       "0          [{'CarrierId': 50441, 'Name': 'easyJet'}]   \n",
       "1  [{'CarrierId': 50441, 'Name': 'easyJet'}, {'Ca...   \n",
       "\n",
       "                                              Places  \\\n",
       "0  [{'Name': 'Lanzarote', 'Type': 'Station', 'Pla...   \n",
       "1  [{'Name': 'Lanzarote', 'Type': 'Station', 'Pla...   \n",
       "\n",
       "                                          Currencies  \n",
       "0  [{'Code': 'USD', 'Symbol': '$', 'ThousandsSepa...  \n",
       "1  [{'Code': 'USD', 'Symbol': '$', 'ThousandsSepa...  "
      ]
     },
     "execution_count": 139,
     "metadata": {},
     "output_type": "execute_result"
    }
   ],
   "source": [
    "new = pd.DataFrame(overview).T.reset_index()\n",
    "new"
   ]
  },
  {
   "cell_type": "code",
   "execution_count": 196,
   "metadata": {},
   "outputs": [],
   "source": [
    "quotes = (new[\"Quotes\"][0])\n",
    "carriers = (new[\"Carriers\"][0])\n",
    "places = (new[\"Places\"][0])\n",
    "currencies = (new[\"Currencies\"][0])\n",
    "\n",
    "# Name_list = df[\"Name\"].tolist()"
   ]
  },
  {
   "cell_type": "code",
   "execution_count": 197,
   "metadata": {},
   "outputs": [],
   "source": [
    "quotes1 = (new[\"Quotes\"][1])\n",
    "carriers1 = (new[\"Carriers\"][1])\n",
    "places1 = (new[\"Places\"][1])\n",
    "currencies1 = (new[\"Currencies\"][1])\n",
    "\n",
    "# Name_list = df[\"Name\"].tolist()"
   ]
  },
  {
   "cell_type": "code",
   "execution_count": 198,
   "metadata": {},
   "outputs": [],
   "source": [
    "all_quotes = quotes + quotes1\n",
    "all_carriers = carriers + carriers1\n",
    "all_places = places + places1\n",
    "all_currencies = currencies + currencies1"
   ]
  },
  {
   "cell_type": "code",
   "execution_count": 203,
   "metadata": {},
   "outputs": [
    {
     "data": {
      "text/html": [
       "<div>\n",
       "<style scoped>\n",
       "    .dataframe tbody tr th:only-of-type {\n",
       "        vertical-align: middle;\n",
       "    }\n",
       "\n",
       "    .dataframe tbody tr th {\n",
       "        vertical-align: top;\n",
       "    }\n",
       "\n",
       "    .dataframe thead th {\n",
       "        text-align: right;\n",
       "    }\n",
       "</style>\n",
       "<table border=\"1\" class=\"dataframe\">\n",
       "  <thead>\n",
       "    <tr style=\"text-align: right;\">\n",
       "      <th></th>\n",
       "      <th>Code</th>\n",
       "      <th>Symbol</th>\n",
       "      <th>ThousandsSeparator</th>\n",
       "      <th>DecimalSeparator</th>\n",
       "      <th>SymbolOnLeft</th>\n",
       "      <th>SpaceBetweenAmountAndSymbol</th>\n",
       "      <th>RoundingCoefficient</th>\n",
       "      <th>DecimalDigits</th>\n",
       "    </tr>\n",
       "  </thead>\n",
       "  <tbody>\n",
       "    <tr>\n",
       "      <th>0</th>\n",
       "      <td>USD</td>\n",
       "      <td>$</td>\n",
       "      <td>,</td>\n",
       "      <td>.</td>\n",
       "      <td>True</td>\n",
       "      <td>False</td>\n",
       "      <td>0</td>\n",
       "      <td>2</td>\n",
       "    </tr>\n",
       "    <tr>\n",
       "      <th>1</th>\n",
       "      <td>USD</td>\n",
       "      <td>$</td>\n",
       "      <td>,</td>\n",
       "      <td>.</td>\n",
       "      <td>True</td>\n",
       "      <td>False</td>\n",
       "      <td>0</td>\n",
       "      <td>2</td>\n",
       "    </tr>\n",
       "  </tbody>\n",
       "</table>\n",
       "</div>"
      ],
      "text/plain": [
       "  Code Symbol ThousandsSeparator DecimalSeparator  SymbolOnLeft  \\\n",
       "0  USD      $                  ,                .          True   \n",
       "1  USD      $                  ,                .          True   \n",
       "\n",
       "   SpaceBetweenAmountAndSymbol  RoundingCoefficient  DecimalDigits  \n",
       "0                        False                    0              2  \n",
       "1                        False                    0              2  "
      ]
     },
     "execution_count": 203,
     "metadata": {},
     "output_type": "execute_result"
    }
   ],
   "source": [
    "pd.json_normalize(all_quotes)\n",
    "pd.json_normalize(all_carriers)\n",
    "pd.json_normalize(all_places)\n",
    "pd.json_normalize(all_currencies)\n",
    "\n",
    "# pd.json_normalize(quotes) just returns the first row"
   ]
  },
  {
   "cell_type": "code",
   "execution_count": 204,
   "metadata": {},
   "outputs": [
    {
     "data": {
      "text/html": [
       "<div>\n",
       "<style scoped>\n",
       "    .dataframe tbody tr th:only-of-type {\n",
       "        vertical-align: middle;\n",
       "    }\n",
       "\n",
       "    .dataframe tbody tr th {\n",
       "        vertical-align: top;\n",
       "    }\n",
       "\n",
       "    .dataframe thead th {\n",
       "        text-align: right;\n",
       "    }\n",
       "</style>\n",
       "<table border=\"1\" class=\"dataframe\">\n",
       "  <thead>\n",
       "    <tr style=\"text-align: right;\">\n",
       "      <th></th>\n",
       "      <th>QuoteId</th>\n",
       "      <th>MinPrice</th>\n",
       "      <th>Direct</th>\n",
       "      <th>QuoteDateTime</th>\n",
       "      <th>OutboundLeg.CarrierIds</th>\n",
       "      <th>OutboundLeg.OriginId</th>\n",
       "      <th>OutboundLeg.DestinationId</th>\n",
       "      <th>OutboundLeg.DepartureDate</th>\n",
       "    </tr>\n",
       "  </thead>\n",
       "  <tbody>\n",
       "    <tr>\n",
       "      <th>0</th>\n",
       "      <td>1</td>\n",
       "      <td>121</td>\n",
       "      <td>False</td>\n",
       "      <td>2021-09-13T20:13:00</td>\n",
       "      <td>[50441]</td>\n",
       "      <td>40595</td>\n",
       "      <td>40101</td>\n",
       "      <td>2021-09-17T00:00:00</td>\n",
       "    </tr>\n",
       "    <tr>\n",
       "      <th>1</th>\n",
       "      <td>1</td>\n",
       "      <td>122</td>\n",
       "      <td>False</td>\n",
       "      <td>2021-09-14T14:51:00</td>\n",
       "      <td>[50441]</td>\n",
       "      <td>40595</td>\n",
       "      <td>40101</td>\n",
       "      <td>2021-09-18T00:00:00</td>\n",
       "    </tr>\n",
       "    <tr>\n",
       "      <th>2</th>\n",
       "      <td>2</td>\n",
       "      <td>322</td>\n",
       "      <td>True</td>\n",
       "      <td>2021-09-14T22:07:00</td>\n",
       "      <td>[1190]</td>\n",
       "      <td>40595</td>\n",
       "      <td>40101</td>\n",
       "      <td>2021-09-18T00:00:00</td>\n",
       "    </tr>\n",
       "  </tbody>\n",
       "</table>\n",
       "</div>"
      ],
      "text/plain": [
       "   QuoteId  MinPrice  Direct        QuoteDateTime OutboundLeg.CarrierIds  \\\n",
       "0        1       121   False  2021-09-13T20:13:00                [50441]   \n",
       "1        1       122   False  2021-09-14T14:51:00                [50441]   \n",
       "2        2       322    True  2021-09-14T22:07:00                 [1190]   \n",
       "\n",
       "   OutboundLeg.OriginId  OutboundLeg.DestinationId OutboundLeg.DepartureDate  \n",
       "0                 40595                      40101       2021-09-17T00:00:00  \n",
       "1                 40595                      40101       2021-09-18T00:00:00  \n",
       "2                 40595                      40101       2021-09-18T00:00:00  "
      ]
     },
     "execution_count": 204,
     "metadata": {},
     "output_type": "execute_result"
    }
   ],
   "source": [
    "pd.json_normalize(all_quotes)"
   ]
  },
  {
   "cell_type": "code",
   "execution_count": 205,
   "metadata": {},
   "outputs": [
    {
     "data": {
      "text/html": [
       "<div>\n",
       "<style scoped>\n",
       "    .dataframe tbody tr th:only-of-type {\n",
       "        vertical-align: middle;\n",
       "    }\n",
       "\n",
       "    .dataframe tbody tr th {\n",
       "        vertical-align: top;\n",
       "    }\n",
       "\n",
       "    .dataframe thead th {\n",
       "        text-align: right;\n",
       "    }\n",
       "</style>\n",
       "<table border=\"1\" class=\"dataframe\">\n",
       "  <thead>\n",
       "    <tr style=\"text-align: right;\">\n",
       "      <th></th>\n",
       "      <th>CarrierId</th>\n",
       "      <th>Name</th>\n",
       "    </tr>\n",
       "  </thead>\n",
       "  <tbody>\n",
       "    <tr>\n",
       "      <th>0</th>\n",
       "      <td>50441</td>\n",
       "      <td>easyJet</td>\n",
       "    </tr>\n",
       "    <tr>\n",
       "      <th>1</th>\n",
       "      <td>50441</td>\n",
       "      <td>easyJet</td>\n",
       "    </tr>\n",
       "    <tr>\n",
       "      <th>2</th>\n",
       "      <td>1190</td>\n",
       "      <td>transavia</td>\n",
       "    </tr>\n",
       "  </tbody>\n",
       "</table>\n",
       "</div>"
      ],
      "text/plain": [
       "   CarrierId       Name\n",
       "0      50441    easyJet\n",
       "1      50441    easyJet\n",
       "2       1190  transavia"
      ]
     },
     "execution_count": 205,
     "metadata": {},
     "output_type": "execute_result"
    }
   ],
   "source": [
    "pd.json_normalize(all_carriers)"
   ]
  },
  {
   "cell_type": "code",
   "execution_count": 206,
   "metadata": {},
   "outputs": [
    {
     "data": {
      "text/html": [
       "<div>\n",
       "<style scoped>\n",
       "    .dataframe tbody tr th:only-of-type {\n",
       "        vertical-align: middle;\n",
       "    }\n",
       "\n",
       "    .dataframe tbody tr th {\n",
       "        vertical-align: top;\n",
       "    }\n",
       "\n",
       "    .dataframe thead th {\n",
       "        text-align: right;\n",
       "    }\n",
       "</style>\n",
       "<table border=\"1\" class=\"dataframe\">\n",
       "  <thead>\n",
       "    <tr style=\"text-align: right;\">\n",
       "      <th></th>\n",
       "      <th>Name</th>\n",
       "      <th>Type</th>\n",
       "      <th>PlaceId</th>\n",
       "      <th>IataCode</th>\n",
       "      <th>SkyscannerCode</th>\n",
       "      <th>CityName</th>\n",
       "      <th>CityId</th>\n",
       "      <th>CountryName</th>\n",
       "    </tr>\n",
       "  </thead>\n",
       "  <tbody>\n",
       "    <tr>\n",
       "      <th>0</th>\n",
       "      <td>Lanzarote</td>\n",
       "      <td>Station</td>\n",
       "      <td>40101</td>\n",
       "      <td>ACE</td>\n",
       "      <td>ACE</td>\n",
       "      <td>Lanzarote</td>\n",
       "      <td>ARRE</td>\n",
       "      <td>Spain</td>\n",
       "    </tr>\n",
       "    <tr>\n",
       "      <th>1</th>\n",
       "      <td>Amsterdam</td>\n",
       "      <td>Station</td>\n",
       "      <td>40595</td>\n",
       "      <td>AMS</td>\n",
       "      <td>AMS</td>\n",
       "      <td>Amsterdam</td>\n",
       "      <td>AMST</td>\n",
       "      <td>Netherlands</td>\n",
       "    </tr>\n",
       "    <tr>\n",
       "      <th>2</th>\n",
       "      <td>Lanzarote</td>\n",
       "      <td>Station</td>\n",
       "      <td>40101</td>\n",
       "      <td>ACE</td>\n",
       "      <td>ACE</td>\n",
       "      <td>Lanzarote</td>\n",
       "      <td>ARRE</td>\n",
       "      <td>Spain</td>\n",
       "    </tr>\n",
       "    <tr>\n",
       "      <th>3</th>\n",
       "      <td>Amsterdam</td>\n",
       "      <td>Station</td>\n",
       "      <td>40595</td>\n",
       "      <td>AMS</td>\n",
       "      <td>AMS</td>\n",
       "      <td>Amsterdam</td>\n",
       "      <td>AMST</td>\n",
       "      <td>Netherlands</td>\n",
       "    </tr>\n",
       "  </tbody>\n",
       "</table>\n",
       "</div>"
      ],
      "text/plain": [
       "        Name     Type  PlaceId IataCode SkyscannerCode   CityName CityId  \\\n",
       "0  Lanzarote  Station    40101      ACE            ACE  Lanzarote   ARRE   \n",
       "1  Amsterdam  Station    40595      AMS            AMS  Amsterdam   AMST   \n",
       "2  Lanzarote  Station    40101      ACE            ACE  Lanzarote   ARRE   \n",
       "3  Amsterdam  Station    40595      AMS            AMS  Amsterdam   AMST   \n",
       "\n",
       "   CountryName  \n",
       "0        Spain  \n",
       "1  Netherlands  \n",
       "2        Spain  \n",
       "3  Netherlands  "
      ]
     },
     "execution_count": 206,
     "metadata": {},
     "output_type": "execute_result"
    }
   ],
   "source": [
    "pd.json_normalize(all_places)"
   ]
  },
  {
   "cell_type": "code",
   "execution_count": 207,
   "metadata": {},
   "outputs": [
    {
     "data": {
      "text/html": [
       "<div>\n",
       "<style scoped>\n",
       "    .dataframe tbody tr th:only-of-type {\n",
       "        vertical-align: middle;\n",
       "    }\n",
       "\n",
       "    .dataframe tbody tr th {\n",
       "        vertical-align: top;\n",
       "    }\n",
       "\n",
       "    .dataframe thead th {\n",
       "        text-align: right;\n",
       "    }\n",
       "</style>\n",
       "<table border=\"1\" class=\"dataframe\">\n",
       "  <thead>\n",
       "    <tr style=\"text-align: right;\">\n",
       "      <th></th>\n",
       "      <th>Code</th>\n",
       "      <th>Symbol</th>\n",
       "      <th>ThousandsSeparator</th>\n",
       "      <th>DecimalSeparator</th>\n",
       "      <th>SymbolOnLeft</th>\n",
       "      <th>SpaceBetweenAmountAndSymbol</th>\n",
       "      <th>RoundingCoefficient</th>\n",
       "      <th>DecimalDigits</th>\n",
       "    </tr>\n",
       "  </thead>\n",
       "  <tbody>\n",
       "    <tr>\n",
       "      <th>0</th>\n",
       "      <td>USD</td>\n",
       "      <td>$</td>\n",
       "      <td>,</td>\n",
       "      <td>.</td>\n",
       "      <td>True</td>\n",
       "      <td>False</td>\n",
       "      <td>0</td>\n",
       "      <td>2</td>\n",
       "    </tr>\n",
       "    <tr>\n",
       "      <th>1</th>\n",
       "      <td>USD</td>\n",
       "      <td>$</td>\n",
       "      <td>,</td>\n",
       "      <td>.</td>\n",
       "      <td>True</td>\n",
       "      <td>False</td>\n",
       "      <td>0</td>\n",
       "      <td>2</td>\n",
       "    </tr>\n",
       "  </tbody>\n",
       "</table>\n",
       "</div>"
      ],
      "text/plain": [
       "  Code Symbol ThousandsSeparator DecimalSeparator  SymbolOnLeft  \\\n",
       "0  USD      $                  ,                .          True   \n",
       "1  USD      $                  ,                .          True   \n",
       "\n",
       "   SpaceBetweenAmountAndSymbol  RoundingCoefficient  DecimalDigits  \n",
       "0                        False                    0              2  \n",
       "1                        False                    0              2  "
      ]
     },
     "execution_count": 207,
     "metadata": {},
     "output_type": "execute_result"
    }
   ],
   "source": [
    "pd.json_normalize(all_currencies)"
   ]
  },
  {
   "cell_type": "code",
   "execution_count": null,
   "metadata": {},
   "outputs": [],
   "source": [
    "# I now have everything unpacked, but need to find a way to combine the dataframes using the original indexing..."
   ]
  }
 ],
 "metadata": {
  "kernelspec": {
   "display_name": "Python 3",
   "language": "python",
   "name": "python3"
  },
  "language_info": {
   "codemirror_mode": {
    "name": "ipython",
    "version": 3
   },
   "file_extension": ".py",
   "mimetype": "text/x-python",
   "name": "python",
   "nbconvert_exporter": "python",
   "pygments_lexer": "ipython3",
   "version": "3.8.8"
  }
 },
 "nbformat": 4,
 "nbformat_minor": 4
}
